{
 "cells": [
  {
   "cell_type": "code",
   "execution_count": null,
   "id": "e64c5b8e",
   "metadata": {
    "vscode": {
     "languageId": "bat"
    }
   },
   "outputs": [],
   "source": [
    "# Page 1\n",
    "<center>King Fahd University of Petroleum & Minerals Information and Computer Science Department</center>\n",
    "<center>241-ICS-560-01(Foundations of Quantum Computing)</center>\n",
    "<center>Quantum Key Distribution: A Simple BB84 Protocol Simulation</center>\n",
    "<center>Omar Saeed Alshammari, ID</center>\n",
    "<center>Bander Saeed Alshammari, ID</center>\n",
    "\n",
    "<center>Dr.Alawi</center>\n",
    "<center>13 Dec 2024</center>\n"
   ]
  },
  {
   "cell_type": "markdown",
   "id": "9889f5cf",
   "metadata": {},
   "source": [
    "# Table of Contents\n",
    "1. [Project Overview](#Project-Overview)\n",
    "2. [Background and Literature Review](#Background-and-Literature-Review)\n",
    "3. [Methodology](#Methodology)\n",
    "4. [Implementation](#Implementation)\n",
    "5. [Results and Analysis](#Results-and-Analysis)\n",
    "6. [Challenges Encountered](#Challenges-Encountered)\n",
    "7. [Conclusion](#Conclusion)\n",
    "7. [References](#References)"
   ]
  },
  {
   "cell_type": "markdown",
   "id": "dfc53dfc",
   "metadata": {},
   "source": [
    "## Project Overview\n"
   ]
  },
  {
   "cell_type": "markdown",
   "id": "b2e8efb2",
   "metadata": {},
   "source": [
    "## Background and Literature Review\n"
   ]
  },
  {
   "cell_type": "markdown",
   "id": "20d83f25",
   "metadata": {},
   "source": [
    "## Methodology"
   ]
  },
  {
   "cell_type": "markdown",
   "id": "271a400a",
   "metadata": {},
   "source": [
    "## Implementation"
   ]
  },
  {
   "cell_type": "markdown",
   "id": "985cedcd",
   "metadata": {},
   "source": []
  },
  {
   "cell_type": "code",
   "execution_count": null,
   "id": "3f11b5b7",
   "metadata": {
    "vscode": {
     "languageId": "bat"
    }
   },
   "outputs": [],
   "source": [
    "# Introudction\n",
    "Implement a basic version of the BB84 protocol, \n",
    "which introduces you to quantum cryptography and the concept of quantum-secure communication."
   ]
  },
  {
   "cell_type": "code",
   "execution_count": null,
   "id": "419bbdc462fb357d",
   "metadata": {},
   "outputs": [],
   "source": [
    "from qiskit import QuantumCircuit\n",
    "from main import simulate_bb84_without_eve\n",
    "num_qubits = 31\n",
    "qc = QuantumCircuit(num_qubits)\n",
    "simulate_bb84_without_eve(qc, num_qubits)\n",
    "qc.draw(output='mpl', scale= 0.3)\n"
   ]
  },
  {
   "cell_type": "code",
   "execution_count": null,
   "id": "4905c0ba",
   "metadata": {},
   "outputs": [],
   "source": []
  },
  {
   "cell_type": "markdown",
   "id": "98861dab",
   "metadata": {},
   "source": []
  },
  {
   "cell_type": "markdown",
   "id": "f2019947",
   "metadata": {},
   "source": []
  },
  {
   "cell_type": "code",
   "execution_count": null,
   "id": "b9c39714",
   "metadata": {},
   "outputs": [],
   "source": [
    "from main import simulate_bb84_with_eve\n",
    "qc_with_eve = QuantumCircuit(num_qubits)\n",
    "simulate_bb84_with_eve(qc_with_eve, num_qubits)\n",
    "qc_with_eve.draw(output='mpl', scale= 0.3)"
   ]
  },
  {
   "cell_type": "code",
   "execution_count": null,
   "id": "49a42360",
   "metadata": {},
   "outputs": [],
   "source": []
  }
 ],
 "metadata": {
  "kernelspec": {
   "display_name": "qkd-env",
   "language": "python",
   "name": "python3"
  },
  "language_info": {
   "codemirror_mode": {
    "name": "ipython",
    "version": 3
   },
   "file_extension": ".py",
   "mimetype": "text/x-python",
   "name": "python",
   "nbconvert_exporter": "python",
   "pygments_lexer": "ipython3",
   "version": "3.13.1"
  }
 },
 "nbformat": 4,
 "nbformat_minor": 5
}
